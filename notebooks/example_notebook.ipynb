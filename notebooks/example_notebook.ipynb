{
 "cells": [
  {
   "cell_type": "code",
   "execution_count": null,
   "id": "a683cc71-1871-4636-a196-f25358810d2c",
   "metadata": {},
   "outputs": [],
   "source": [
    "import sys\n",
    "import os\n",
    "\n",
    "# Get the absolute path of the project root\n",
    "project_root = os.path.abspath(os.path.join(os.getcwd(), \"..\"))\n",
    "\n",
    "# Add the project root to sys.path\n",
    "sys.path.append(project_root)\n",
    "\n",
    "from dotenv import load_dotenv\n",
    "# Load environment variables from .env file\n",
    "load_dotenv()\n",
    "\n",
    "from module.git_class import GitConfig, GitOperationError  # Import DatabricksConfig classes\n",
    "from module.databricks_class import DatabricksConfig, DatabricksDeploymentError # Import  DatabricksConfig classes\n",
    "\n",
    "target_commit = 'abc123-def456-ghi789'"
   ]
  },
  {
   "cell_type": "code",
   "execution_count": null,
   "id": "f5cec34b-808b-4c72-923c-b7ff0d4f2d97",
   "metadata": {},
   "outputs": [],
   "source": [
    "def demo_git_operations():\n",
    "    \"\"\"Demonstrates GitConfig functionality step by step.\"\"\"\n",
    "    git_config = GitConfig()\n",
    "\n",
    "    try:\n",
    "        print(\"\\n🚀 Step 1: Cloning Repository\")\n",
    "        git_config.clone_repo()\n",
    "\n",
    "        print(\"\\n🚀 Step 2: Checking Out Branch\")\n",
    "        branch_name = input(\"Enter the branch to checkout (default is dev): \").strip()\n",
    "        if branch_name:\n",
    "            git_config.checkout_branch(branch_name)\n",
    "        else:\n",
    "            git_config.checkout_branch()\n",
    "\n",
    "        print(\"\\n🚀 Step 3: Creating a Test Commit\")\n",
    "        test_file_path = os.path.join(git_config.local_clone_path, \"demo_file.txt\")\n",
    "\n",
    "        # Write a test file\n",
    "        with open(test_file_path, \"w\") as f:\n",
    "            f.write(\"This is a test commit for demonstration.\\n\")\n",
    "\n",
    "        # Commit and push changes\n",
    "        git_config.commit_and_push(\"Demo: Adding a test file\")\n",
    "\n",
    "        print(\"\\n🚀 Step 4: Simulating Rollback\")\n",
    "        target_commit = input(\"Enter the commit hash to rollback to (or leave empty to skip): \").strip()\n",
    "        if target_commit:\n",
    "            git_config.rollback_to_commit(target_commit)\n",
    "            git_config.commit_and_push(f\"Rollback to {target_commit}\")\n",
    "\n",
    "        print(\"\\n🎉 Demo Complete! All Git operations executed successfully.\")\n",
    "    \n",
    "    except GitOperationError as e:\n",
    "        print(f\"\\n❌ Git Error: {e}\")\n",
    "    except Exception as e:\n",
    "        print(f\"\\n⚠️ Unexpected Error: {e}\")\n",
    "\n",
    "if __name__ == \"__main__\":\n",
    "    demo_git_operations()\n"
   ]
  }
 ],
 "metadata": {
  "kernelspec": {
   "display_name": "Python 3 (ipykernel)",
   "language": "python",
   "name": "python3"
  },
  "language_info": {
   "codemirror_mode": {
    "name": "ipython",
    "version": 3
   },
   "file_extension": ".py",
   "mimetype": "text/x-python",
   "name": "python",
   "nbconvert_exporter": "python",
   "pygments_lexer": "ipython3",
   "version": "3.8.10"
  }
 },
 "nbformat": 4,
 "nbformat_minor": 5
}
