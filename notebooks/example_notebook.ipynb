{
 "cells": [
  {
   "cell_type": "code",
   "execution_count": 1,
   "id": "a683cc71-1871-4636-a196-f25358810d2c",
   "metadata": {},
   "outputs": [],
   "source": [
    "import sys\n",
    "import os\n",
    "\n",
    "# Get the absolute path of the project root\n",
    "project_root = os.path.abspath(os.path.join(os.getcwd(), \"..\"))\n",
    "\n",
    "# Add the project root to sys.path\n",
    "sys.path.append(project_root)\n",
    "\n",
    "from dotenv import load_dotenv\n",
    "# Load environment variables from .env file\n",
    "load_dotenv()\n",
    "\n",
    "from module.git_class import GitConfig, GitOperationError  # Import DatabricksConfig classes\n",
    "from module.databricks_class import DatabricksConfig, DatabricksDeploymentError # Import  DatabricksConfig classes"
   ]
  },
  {
   "cell_type": "code",
   "execution_count": 2,
   "id": "f5cec34b-808b-4c72-923c-b7ff0d4f2d97",
   "metadata": {},
   "outputs": [],
   "source": [
    "import os\n",
    "from datetime import datetime\n",
    "def demo_git_operations():\n",
    "    \"\"\"Demonstrates GitConfig functionality step by step.\"\"\"\n",
    "    git_config = GitConfig()  # Assuming this class has branch_name and target_commit attributes\n",
    "\n",
    "    try:\n",
    "        print(\"\\n🚀 Step 0: Cloning Repository\")\n",
    "        git_config.clone_repo()\n",
    "        \n",
    "        print(\"\\n🚀 Step 1: Setting Remote Origin\")\n",
    "        # Set the remote origin for the repo\n",
    "        git_config.set_git_remote_origin()\n",
    "\n",
    "        print(\"\\n🚀 Step 2: Checking Out Branch\")\n",
    "        # Check if branch_name is set in GitConfig\n",
    "        branch_name = getattr(git_config, \"git_branch_name\", None)  # Using getattr to avoid AttributeError\n",
    "        if not branch_name:\n",
    "            branch_name = input(\"Enter the branch to checkout (default is dev): \").strip()\n",
    "\n",
    "        git_config.checkout_branch(branch_name if branch_name else \"dev\")\n",
    "\n",
    "        print(\"\\n🚀 Step 3: Creating a Test Commit\")\n",
    "        test_file_path = os.path.join(git_config.local_clone_path, \"demo_file.txt\")\n",
    "\n",
    "        # Write a test file\n",
    "        with open(test_file_path, \"w\") as f:\n",
    "            f.write(f\"This is a test commit for demonstration at {datetime.now()}.\\n\")\n",
    "\n",
    "        # Commit and push changes\n",
    "        git_config.commit_and_push(\"Demo: Adding a test file\")\n",
    "\n",
    "        print(\"\\n🚀 Step 4: Simulating Rollback\")\n",
    "        # Check if target_commit is set in GitConfig\n",
    "        target_commit = getattr(git_config, \"git_commit_hash\", None)\n",
    "        if not target_commit:\n",
    "            target_commit = input(\"Enter the commit hash to rollback to (or leave empty to skip): \").strip()\n",
    "\n",
    "        if target_commit:\n",
    "            git_config.revert_to_commit(target_commit)\n",
    "\n",
    "        print(\"\\n🎉 Demo Complete! All Git operations executed successfully.\")\n",
    "\n",
    "    except GitOperationError as e:\n",
    "        print(f\"\\n❌ Git Error: {e}\")\n",
    "        raise e\n",
    "    except Exception as e:\n",
    "        print(f\"\\n⚠️ Unexpected Error: {e}\")\n",
    "        raise e"
   ]
  },
  {
   "cell_type": "code",
   "execution_count": 3,
   "id": "0daa8619-47c4-4976-939f-cd30ca56cfaf",
   "metadata": {},
   "outputs": [
    {
     "name": "stdout",
     "output_type": "stream",
     "text": [
      "\n",
      "🚀 Step 0: Cloning Repository\n",
      "CURRENT WORKING DIRECTORY: /github_work_around/notebooks\n",
      "Cloning repository https://github.com/ericbarber/databricks_github_workaround into /tmp/rollback_repo...\n",
      "\n",
      "🚀 Step 1: Setting Remote Origin\n",
      "Updating remote origin to: https://ericbarber:<REDACTED>@github.com/ericbarber/databricks_github_workaround.git\n",
      "✅ Remote origin set successfully.\n",
      "\n",
      "🚀 Step 2: Checking Out Branch\n",
      "Checking out branch: demo-dev\n",
      "Branch 'demo-dev' found on remote. Creating a local tracking branch.\n",
      "\n",
      "🚀 Step 3: Creating a Test Commit\n",
      "Committing and pushing changes: Demo: Adding a test file\n",
      "Changes committed and pushed.\n",
      "\n",
      "🚀 Step 4: Simulating Rollback\n",
      "Reverting repository to commit: da59154de4e2670543b499ee63388aeb077a73df\n",
      "Reverting commits...\n",
      "Committing and pushing changes: Reverting to commit da59154de4e2670543b499ee63388aeb077a73df\n",
      "Changes committed and pushed.\n",
      "\n",
      "🎉 Demo Complete! All Git operations executed successfully.\n"
     ]
    }
   ],
   "source": [
    "if __name__ == \"__main__\":\n",
    "    demo_git_operations()"
   ]
  }
 ],
 "metadata": {
  "kernelspec": {
   "display_name": "Python 3 (ipykernel)",
   "language": "python",
   "name": "python3"
  },
  "language_info": {
   "codemirror_mode": {
    "name": "ipython",
    "version": 3
   },
   "file_extension": ".py",
   "mimetype": "text/x-python",
   "name": "python",
   "nbconvert_exporter": "python",
   "pygments_lexer": "ipython3",
   "version": "3.8.10"
  }
 },
 "nbformat": 4,
 "nbformat_minor": 5
}
